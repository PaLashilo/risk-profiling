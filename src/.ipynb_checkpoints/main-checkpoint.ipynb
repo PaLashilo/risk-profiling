{
 "cells": [
  {
   "cell_type": "markdown",
   "metadata": {},
   "source": [
    "# Скачивание библиотек"
   ]
  },
  {
   "cell_type": "code",
   "execution_count": 2,
   "metadata": {
    "colab": {
     "base_uri": "https://localhost:8080/"
    },
    "id": "-hDeFxQSF5cy",
    "outputId": "b750e7d6-e2b9-4f60-b92d-8521ad7effcb"
   },
   "outputs": [
    {
     "name": "stdout",
     "output_type": "stream",
     "text": [
      "Requirement already satisfied: catboost in c:\\users\\pasin\\anaconda3\\lib\\site-packages (1.2)\n",
      "Requirement already satisfied: pandas>=0.24 in c:\\users\\pasin\\anaconda3\\lib\\site-packages (from catboost) (1.3.4)\n",
      "Requirement already satisfied: plotly in c:\\users\\pasin\\anaconda3\\lib\\site-packages (from catboost) (5.14.1)\n",
      "Requirement already satisfied: scipy in c:\\users\\pasin\\anaconda3\\lib\\site-packages (from catboost) (1.7.1)\n",
      "Requirement already satisfied: numpy>=1.16.0 in c:\\users\\pasin\\anaconda3\\lib\\site-packages (from catboost) (1.20.3)\n",
      "Requirement already satisfied: graphviz in c:\\users\\pasin\\anaconda3\\lib\\site-packages (from catboost) (0.20.1)\n",
      "Requirement already satisfied: matplotlib in c:\\users\\pasin\\anaconda3\\lib\\site-packages (from catboost) (3.4.3)\n",
      "Requirement already satisfied: six in c:\\users\\pasin\\anaconda3\\lib\\site-packages (from catboost) (1.16.0)\n",
      "Requirement already satisfied: python-dateutil>=2.7.3 in c:\\users\\pasin\\anaconda3\\lib\\site-packages (from pandas>=0.24->catboost) (2.8.2)\n",
      "Requirement already satisfied: pytz>=2017.3 in c:\\users\\pasin\\anaconda3\\lib\\site-packages (from pandas>=0.24->catboost) (2021.3)\n",
      "Requirement already satisfied: pyparsing>=2.2.1 in c:\\users\\pasin\\anaconda3\\lib\\site-packages (from matplotlib->catboost) (3.0.4)\n",
      "Requirement already satisfied: cycler>=0.10 in c:\\users\\pasin\\anaconda3\\lib\\site-packages (from matplotlib->catboost) (0.10.0)\n",
      "Requirement already satisfied: kiwisolver>=1.0.1 in c:\\users\\pasin\\anaconda3\\lib\\site-packages (from matplotlib->catboost) (1.3.1)\n",
      "Requirement already satisfied: pillow>=6.2.0 in c:\\users\\pasin\\anaconda3\\lib\\site-packages (from matplotlib->catboost) (8.4.0)\n",
      "Requirement already satisfied: packaging in c:\\users\\pasin\\anaconda3\\lib\\site-packages (from plotly->catboost) (21.0)\n",
      "Requirement already satisfied: tenacity>=6.2.0 in c:\\users\\pasin\\anaconda3\\lib\\site-packages (from plotly->catboost) (8.2.2)\n"
     ]
    }
   ],
   "source": [
    "!pip install catboost"
   ]
  },
  {
   "cell_type": "code",
   "execution_count": 1,
   "metadata": {
    "id": "oVVxE1xD0iYu"
   },
   "outputs": [],
   "source": [
    "import zipfile\n",
    "import os    \n",
    "import shutil\n",
    "import pandas as pd\n",
    "import numpy as np\n",
    "import seaborn as sns\n",
    "import datetime\n",
    "import functools \n",
    "from random import randint\n",
    "\n",
    "from catboost import CatBoostClassifier\n",
    "from sklearn.model_selection import GridSearchCV, train_test_split\n",
    "from sklearn.model_selection import RandomizedSearchCV\n",
    "from sklearn.linear_model import LinearRegression\n",
    "\n",
    "from sklearn.metrics import mean_squared_error\n",
    "from sklearn.metrics import f1_score\n",
    "from sklearn.metrics import confusion_matrix\n",
    "\n",
    "from sklearn.decomposition import PCA\n",
    "from sklearn.preprocessing import StandardScaler\n",
    "\n",
    "import warnings\n",
    "warnings.filterwarnings(\"ignore\")"
   ]
  },
  {
   "cell_type": "markdown",
   "metadata": {},
   "source": [
    "# Чтение и обработка данных"
   ]
  },
  {
   "cell_type": "code",
   "execution_count": 219,
   "metadata": {
    "id": "e-SAMuiy0iYw"
   },
   "outputs": [],
   "source": [
    "DIRECTORY = 'C:/Users/pasin/DS/Лаба/РискПрофиль/'"
   ]
  },
  {
   "cell_type": "code",
   "execution_count": 220,
   "metadata": {
    "colab": {
     "base_uri": "https://localhost:8080/"
    },
    "id": "483NgqIj0iYw",
    "outputId": "640ab235-5808-468e-b24b-4f17dff0bfd6"
   },
   "outputs": [],
   "source": [
    "# #Для Google Drive\n",
    "# from google.colab import drive\n",
    "# drive.mount('/content/drive')"
   ]
  },
  {
   "cell_type": "code",
   "execution_count": 221,
   "metadata": {},
   "outputs": [],
   "source": [
    "# создание словаря с таблицами всех юзеров и из трейна и из теста\n",
    "data = dict()\n",
    "\n",
    "train = pd.read_csv(f'{DIRECTORY}data/train/train.csv', sep = ',')\n",
    "final_test = pd.read_csv(f'{DIRECTORY}data/test/test.csv', sep = ',')\n",
    "\n",
    "for mode in [\"train\", \"test\"]:\n",
    "    ids = train.id if mode==\"train\" else final_test.id\n",
    "    for id in ids:\n",
    "        acc_conf = f'{DIRECTORY}data/{mode}/{mode}_additional_info/id_{id}/account_condition_{id}.csv'\n",
    "        ref_point = f'{DIRECTORY}data/{mode}/{mode}_additional_info/id_{id}/reference_point_{id}.csv'\n",
    "        stat_table = f'{DIRECTORY}data/{mode}/{mode}_additional_info/id_{id}/stats_table_{id}.csv'\n",
    "        deals_1 = f'{DIRECTORY}data/{mode}/{mode}_deals/1_{id}.csv'\n",
    "        deals_2 = f'{DIRECTORY}data/{mode}/{mode}_deals/2_{id}.csv'\n",
    "        deals_3 = f'{DIRECTORY}data/{mode}/{mode}_deals/3_{id}.csv'\n",
    "\n",
    "        data[id] = {\n",
    "                  'account_condition': pd.read_csv(acc_conf) if os.path.exists(acc_conf) else None, \n",
    "                  'reference_point': pd.read_csv(ref_point) if os.path.exists(ref_point) else None, \n",
    "                  'stats_table': pd.read_csv(stat_table, sep=';') if os.path.exists(stat_table) else None,\n",
    "                  'deals': pd.read_csv(deals_1) if os.path.exists(deals_1) \n",
    "                                else pd.read_csv(deals_2) if os.path.exists(deals_2)\n",
    "                                else pd.read_csv(deals_3) if os.path.exists(deals_3)\n",
    "                                else None\n",
    "                }"
   ]
  },
  {
   "cell_type": "code",
   "execution_count": 56,
   "metadata": {},
   "outputs": [],
   "source": [
    "def drop_outlier(train):\n",
    "    columns = ['start_sum', 'income_percent', 'deals']\n",
    "\n",
    "    # Словари для хранения нижних и верхних границ для каждого столбца\n",
    "    lower_bounds = {}\n",
    "    upper_bounds = {}\n",
    "\n",
    "    # Вычисление нижних и верхних границ для каждого столбца\n",
    "    for col in columns:\n",
    "        Q1 = train[col].quantile(0.2)\n",
    "        Q3 = train[col].quantile(0.8)\n",
    "        IQR = Q3 - Q1\n",
    "        lower_bound = Q1 - 1.5 * IQR\n",
    "        upper_bound = Q3 + 1.5 * IQR\n",
    "        lower_bounds[col] = lower_bound\n",
    "        upper_bounds[col] = upper_bound\n",
    "\n",
    "    # Создаем фильтр для удаления выбросов по вычисленным границам\n",
    "    mask = pd.Series(True, index=train.index)\n",
    "    for col in columns:\n",
    "        mask = mask & (train[col] >= lower_bounds[col]) & (train[col] <= upper_bounds[col])\n",
    "\n",
    "    # Применяем фильтр к датафрейму\n",
    "    df_filtered = train[mask]\n",
    "    train = df_filtered\n",
    "    return train"
   ]
  },
  {
   "cell_type": "code",
   "execution_count": 222,
   "metadata": {},
   "outputs": [],
   "source": [
    "final_test = pd.read_csv(f'{DIRECTORY}data/test/test.csv', sep = ',')\n",
    "train = pd.read_csv(f'{DIRECTORY}data/train/train.csv', sep = ',')\n",
    "train['income_percent'] = train['income_percent'].fillna(train.income_rub/train.start_sum)\n",
    "#train = drop_outlier(train)"
   ]
  },
  {
   "cell_type": "markdown",
   "metadata": {},
   "source": [
    "# Feature engineering"
   ]
  },
  {
   "cell_type": "code",
   "execution_count": 28,
   "metadata": {},
   "outputs": [],
   "source": [
    "def adding_deal_sum_info(dataset):\n",
    "    '''\n",
    "    adding a new features to a dataset that show info(mean and std) about sum of all users' deals \n",
    "    \n",
    "    parameters: dataset - pd.DataFrame (dataset for adding features)\n",
    "    returns: dataset - pd.DataFrame (dataset with new columns)\n",
    "    '''\n",
    "    \n",
    "    dataset['mean_deal_sum'] = 0\n",
    "    dataset['std_deal_sum'] = 0\n",
    "    dataset['len_deals'] = 0\n",
    "    for id in dataset.id:\n",
    "        table = data[id]['deals']\n",
    "        if table is not None:\n",
    "            \n",
    "            dataset.mean_deal_sum.loc[dataset.id == id] = table.summ.mean()\n",
    "            std = table.summ.std()\n",
    "            dataset.std_deal_sum.loc[dataset.id == id] = std if not np.isnan(std) else 0\n",
    "            dataset.len_deals.loc[dataset.id == id] = len(table)\n",
    "                \n",
    "    # filling zeros (no info for such users) by linear regression \n",
    "    X_train = dataset[dataset.mean_deal_sum!=0].drop([\"mean_deal_sum\", \"nickname\", \"broker\", \"id\", \"std_deal_sum\", \"class\"], 1)\n",
    "    X_test = dataset[dataset.mean_deal_sum==0].drop([\"mean_deal_sum\", \"nickname\", \"broker\", \"id\", \"std_deal_sum\", \"class\"], 1)\n",
    "    y_train = dataset[dataset.mean_deal_sum!=0].mean_deal_sum\n",
    "    model = LinearRegression()\n",
    "    model.fit(X_train, y_train)\n",
    "    y_pred = model.predict(X_test)\n",
    "    dataset.mean_deal_sum[dataset.mean_deal_sum == 0] = y_pred\n",
    "    \n",
    "    X_train = dataset[dataset.std_deal_sum!=0].drop([\"nickname\", \"broker\", \"id\", \"std_deal_sum\", \"class\"], 1)\n",
    "    X_test = dataset[dataset.std_deal_sum==0].drop([\"nickname\", \"broker\", \"id\", \"std_deal_sum\", \"class\"], 1)\n",
    "    y_train = dataset[dataset.std_deal_sum!=0].std_deal_sum\n",
    "    model = LinearRegression()\n",
    "    model.fit(X_train, y_train)\n",
    "    y_pred = model.predict(X_test)\n",
    "    dataset.std_deal_sum[dataset.std_deal_sum == 0] = y_pred\n",
    "    \n",
    "    return dataset\n",
    "\n"
   ]
  },
  {
   "cell_type": "code",
   "execution_count": 29,
   "metadata": {},
   "outputs": [],
   "source": [
    "def adding_frequent_market_info(dataset):\n",
    "    '''\n",
    "    adding a new features to a dataset that show the measure of money invested in each type of market\n",
    "    \n",
    "    parameters: dataset - pd.DataFrame (dataset for adding features)\n",
    "    returns: dataset - pd.DataFrame (dataset with new columns)\n",
    "    '''\n",
    "    \n",
    "    dataset['stock_coef'] = 0\n",
    "    dataset['curr_coef'] = 0\n",
    "    dataset['fort_coef'] = 0\n",
    "    dataset['freq_market'] = 0\n",
    "    \n",
    "    dataset['income_percent_stats'] = 0 \n",
    "    \n",
    "    for id in dataset.id:\n",
    "        table = data[id]['stats_table']\n",
    "        if table is not None:\n",
    "            \n",
    "            # market coefs\n",
    "            stock_turnover = table.loc[1, 'part_turnover'] if table.loc[1, 'part_turnover'] != '-' else 0\n",
    "            curr_turnover = table.loc[3, 'part_turnover']  if table.loc[3, 'part_turnover'] != '-' else 0\n",
    "            fort_turnover = table.loc[2, 'part_turnover']  if table.loc[2, 'part_turnover'] != '-' else 0\n",
    "            \n",
    "            dataset.stock_coef.loc[dataset.id == id] = float(stock_turnover) \n",
    "            dataset.curr_coef.loc[dataset.id == id] = float(curr_turnover) \n",
    "            dataset.fort_coef.loc[dataset.id == id] = float(fort_turnover) \n",
    "            \n",
    "            dataset.freq_market.loc[dataset.id == id] = \\\n",
    "                        max(enumerate([0, float(stock_turnover), float(curr_turnover), float(fort_turnover)]),key=lambda x: x[1])[0]\n",
    "                            \n",
    "            # income \n",
    "            dataset.income_percent_stats.loc[dataset.id == id] = table.loc[0, \"income_percent\"]\n",
    "    \n",
    "    return dataset.fillna(0)"
   ]
  },
  {
   "cell_type": "code",
   "execution_count": 30,
   "metadata": {},
   "outputs": [],
   "source": [
    "def adding_free_funds_info(dataset):\n",
    "    '''\n",
    "    adding a new features to a dataset that show info(mean and std) about sum of all users' deals \n",
    "    \n",
    "    parameters: dataset - pd.DataFrame (dataset for adding features)\n",
    "    returns: dataset - pd.DataFrame (dataset with new columns)\n",
    "    '''\n",
    "    \n",
    "    dataset['std_free_funds'] = 0\n",
    "    dataset['coef_free_funds'] = 0\n",
    "    dataset['coef_free_funds2'] = 0\n",
    "    dataset['mean_free_funds'] = 0\n",
    "    dataset['min_free_funds'] = 0\n",
    "    dataset['max_free_funds'] = 0\n",
    "    \n",
    "    for id in dataset.id:\n",
    "        table = data[id]['account_condition']\n",
    "        if table is not None:\n",
    "            std = (table.free_funds).std()\n",
    "            dataset.std_free_funds.loc[dataset.id == id] = std\n",
    "            \n",
    "            if len(table)<1:\n",
    "                dataset.coef_free_funds.loc[dataset.id == id] = 0\n",
    "                dataset.coef_free_funds2.loc[dataset.id == id] = 0\n",
    "            else:\n",
    "                dataset.coef_free_funds.loc[dataset.id == id] = \\\n",
    "                                    std / table.start_sum.iloc[0]\n",
    "                dataset.coef_free_funds2.loc[dataset.id == id] = \\\n",
    "                                    (std / table.start_sum.iloc[0])**2\n",
    "            \n",
    "            dataset.mean_free_funds.loc[dataset.id == id] = np.mean(table.free_funds)\n",
    "            dataset.max_free_funds.loc[dataset.id == id] = np.max(table.free_funds)\n",
    "            dataset.min_free_funds.loc[dataset.id == id] = np.min(table.free_funds)\n",
    "            \n",
    "    \n",
    "    return dataset"
   ]
  },
  {
   "cell_type": "code",
   "execution_count": 143,
   "metadata": {},
   "outputs": [],
   "source": [
    "def adding_features(dataset):\n",
    "    '''\n",
    "    adding a new feature to a dataset\n",
    "    \n",
    "    parameters: dataset - pd.DataFrame (dataset for adding features)\n",
    "    returns: dataset - pd.DataFrame (dataset with new columns)\n",
    "    '''\n",
    "    \n",
    "    dataset = adding_deal_sum_info(dataset)\n",
    "    dataset = adding_frequent_market_info(dataset)\n",
    "    dataset = adding_free_funds_info(dataset)\n",
    "    return dataset"
   ]
  },
  {
   "cell_type": "code",
   "execution_count": 209,
   "metadata": {},
   "outputs": [],
   "source": [
    "train = adding_features(train)"
   ]
  },
  {
   "cell_type": "markdown",
   "metadata": {},
   "source": [
    "# Embeddings"
   ]
  },
  {
   "cell_type": "code",
   "execution_count": 223,
   "metadata": {},
   "outputs": [],
   "source": [
    "def random_embedding(vec, fix_size):\n",
    "    '''\n",
    "    making a fix_size embedding by random selecting values from vector\n",
    "    \n",
    "    parameters: vec - pca vector, fix_size - size for embedding\n",
    "    returns: emb - fix_size embedding\n",
    "    '''\n",
    "    \n",
    "    emb = [vec[randint(0, len(vec)-1)] for _ in range(fix_size)]\n",
    "    return emb"
   ]
  },
  {
   "cell_type": "code",
   "execution_count": 224,
   "metadata": {},
   "outputs": [],
   "source": [
    "def sort_dist_embedding(vec, fix_size):\n",
    "    '''\n",
    "    making a fix_size embedding by selecting far values after vector sorting\n",
    "    \n",
    "    parameters: vec - pca vector, fix_size - size for embedding\n",
    "    returns: emb - fix_size embedding\n",
    "    '''\n",
    "    \n",
    "    emb = [sorted(vec)[i*(len(vec)//(fix_size-1)) if i!=fix_size-1 else -1] for i in range(fix_size)]\n",
    "    return emb"
   ]
  },
  {
   "cell_type": "code",
   "execution_count": 225,
   "metadata": {},
   "outputs": [],
   "source": [
    "def distribution_discription_embedding(vec):\n",
    "    emb = [np.mean(vec), np.std(vec), pd.Series(vec).skew(), pd.Series(vec).kurt()]\n",
    "    return emb"
   ]
  },
  {
   "cell_type": "code",
   "execution_count": 226,
   "metadata": {},
   "outputs": [],
   "source": [
    "def approximation_embedding(vec, fix_size):\n",
    "    emb = [ np.mean( sorted(vec)[(i-1)*(len(vec)//(fix_size-1)) : (i*(len(vec)//(fix_size-1)) \\\n",
    "                                                                 if i!=fix_size-1 else -1)] )  \\\n",
    "                                                                 for i in range(1, fix_size+1) ]\n",
    "\n",
    "    emb = [i if not np.isnan(i) else 0 for i in emb]\n",
    "    return emb"
   ]
  },
  {
   "cell_type": "code",
   "execution_count": 227,
   "metadata": {},
   "outputs": [],
   "source": [
    "def adding_embeddings(dataset, fix_size = 5):\n",
    "    '''\n",
    "    adding embedding of additional tables to main dataframe\n",
    "    \n",
    "    parameters: dataset - pd.DataFrame (dataset for adding features)\n",
    "    returns: dataset - pd.DataFrame (dataset with new columns)\n",
    "    '''\n",
    "    \n",
    "    for i in range(fix_size):\n",
    "        dataset[f\"emb{i}\"] = 0\n",
    "        \n",
    "    for id in dataset.id:\n",
    "        table = data[id]['deals']\n",
    "        \n",
    "        if table is not None:\n",
    "            \n",
    "            # prepro\n",
    "            table = table.drop([\"Unnamed: 0\", \"ticker\"], 1)\n",
    "            table['datetime'] = pd.to_datetime(table['datetime'], format='%Y-%m-%d')\n",
    "            table['datetime'] = table['datetime'].apply(lambda x: x.timestamp())\n",
    "\n",
    "            # PCA vector \n",
    "            pca = PCA(n_components=1)\n",
    "            scaler = StandardScaler().fit_transform(table)\n",
    "            vec = pca.fit_transform(scaler)\n",
    "            vec = [i[0] for i in vec]\n",
    "            \n",
    "            # embs\n",
    "            emb = approximation_embedding(vec, fix_size)\n",
    "            \n",
    "            # adding emb to dataset \n",
    "            dataset.loc[dataset.id==id, \"emb0\":f\"emb{fix_size-1}\"] = emb\n",
    "\n",
    "    return dataset   \n"
   ]
  },
  {
   "cell_type": "code",
   "execution_count": 228,
   "metadata": {},
   "outputs": [],
   "source": [
    "train = adding_embeddings(train, 18)"
   ]
  },
  {
   "cell_type": "code",
   "execution_count": 229,
   "metadata": {},
   "outputs": [
    {
     "data": {
      "text/html": [
       "<div>\n",
       "<style scoped>\n",
       "    .dataframe tbody tr th:only-of-type {\n",
       "        vertical-align: middle;\n",
       "    }\n",
       "\n",
       "    .dataframe tbody tr th {\n",
       "        vertical-align: top;\n",
       "    }\n",
       "\n",
       "    .dataframe thead th {\n",
       "        text-align: right;\n",
       "    }\n",
       "</style>\n",
       "<table border=\"1\" class=\"dataframe\">\n",
       "  <thead>\n",
       "    <tr style=\"text-align: right;\">\n",
       "      <th></th>\n",
       "      <th>id</th>\n",
       "      <th>nickname</th>\n",
       "      <th>broker</th>\n",
       "      <th>start_sum</th>\n",
       "      <th>request</th>\n",
       "      <th>deals</th>\n",
       "      <th>income_rub</th>\n",
       "      <th>income_percent</th>\n",
       "      <th>class</th>\n",
       "      <th>emb0</th>\n",
       "      <th>...</th>\n",
       "      <th>emb8</th>\n",
       "      <th>emb9</th>\n",
       "      <th>emb10</th>\n",
       "      <th>emb11</th>\n",
       "      <th>emb12</th>\n",
       "      <th>emb13</th>\n",
       "      <th>emb14</th>\n",
       "      <th>emb15</th>\n",
       "      <th>emb16</th>\n",
       "      <th>emb17</th>\n",
       "    </tr>\n",
       "  </thead>\n",
       "  <tbody>\n",
       "    <tr>\n",
       "      <th>97</th>\n",
       "      <td>312321</td>\n",
       "      <td>Jin</td>\n",
       "      <td>ООО «АЛОР +»</td>\n",
       "      <td>629207.66</td>\n",
       "      <td>6267</td>\n",
       "      <td>13669</td>\n",
       "      <td>-282827.00</td>\n",
       "      <td>-44.95</td>\n",
       "      <td>3</td>\n",
       "      <td>-1.293763</td>\n",
       "      <td>...</td>\n",
       "      <td>-0.496812</td>\n",
       "      <td>-0.265552</td>\n",
       "      <td>-0.008725</td>\n",
       "      <td>0.380518</td>\n",
       "      <td>0.766136</td>\n",
       "      <td>0.992240</td>\n",
       "      <td>1.626997</td>\n",
       "      <td>2.246816</td>\n",
       "      <td>2.490210</td>\n",
       "      <td>3.389451</td>\n",
       "    </tr>\n",
       "    <tr>\n",
       "      <th>178</th>\n",
       "      <td>313032</td>\n",
       "      <td>Berich</td>\n",
       "      <td>ООО «Компания БКС»</td>\n",
       "      <td>1808357.81</td>\n",
       "      <td>1530</td>\n",
       "      <td>699</td>\n",
       "      <td>-349882.55</td>\n",
       "      <td>-19.35</td>\n",
       "      <td>3</td>\n",
       "      <td>-1.802730</td>\n",
       "      <td>...</td>\n",
       "      <td>-0.000516</td>\n",
       "      <td>0.119716</td>\n",
       "      <td>0.175087</td>\n",
       "      <td>0.278298</td>\n",
       "      <td>0.387398</td>\n",
       "      <td>0.495096</td>\n",
       "      <td>0.624963</td>\n",
       "      <td>0.914690</td>\n",
       "      <td>2.735015</td>\n",
       "      <td>3.013767</td>\n",
       "    </tr>\n",
       "    <tr>\n",
       "      <th>1297</th>\n",
       "      <td>312756</td>\n",
       "      <td>poison202</td>\n",
       "      <td>АО «Открытие Брокер»</td>\n",
       "      <td>100000.00</td>\n",
       "      <td>2779</td>\n",
       "      <td>2705</td>\n",
       "      <td>-16442.04</td>\n",
       "      <td>-16.44</td>\n",
       "      <td>3</td>\n",
       "      <td>-1.171810</td>\n",
       "      <td>...</td>\n",
       "      <td>-0.545727</td>\n",
       "      <td>-0.334710</td>\n",
       "      <td>0.211780</td>\n",
       "      <td>0.264777</td>\n",
       "      <td>0.349686</td>\n",
       "      <td>0.452981</td>\n",
       "      <td>1.713019</td>\n",
       "      <td>2.414158</td>\n",
       "      <td>2.494526</td>\n",
       "      <td>2.533246</td>\n",
       "    </tr>\n",
       "    <tr>\n",
       "      <th>601</th>\n",
       "      <td>313809</td>\n",
       "      <td>404FZJJ</td>\n",
       "      <td>ПАО Сбербанк</td>\n",
       "      <td>127323.98</td>\n",
       "      <td>450</td>\n",
       "      <td>329</td>\n",
       "      <td>-7067.61</td>\n",
       "      <td>-5.55</td>\n",
       "      <td>4</td>\n",
       "      <td>-1.197966</td>\n",
       "      <td>...</td>\n",
       "      <td>-0.260245</td>\n",
       "      <td>-0.198911</td>\n",
       "      <td>-0.029728</td>\n",
       "      <td>0.423427</td>\n",
       "      <td>0.689152</td>\n",
       "      <td>0.769285</td>\n",
       "      <td>0.839109</td>\n",
       "      <td>0.995639</td>\n",
       "      <td>2.454454</td>\n",
       "      <td>3.320551</td>\n",
       "    </tr>\n",
       "  </tbody>\n",
       "</table>\n",
       "<p>4 rows × 27 columns</p>\n",
       "</div>"
      ],
      "text/plain": [
       "          id   nickname                broker   start_sum  request  deals  \\\n",
       "97    312321        Jin          ООО «АЛОР +»   629207.66     6267  13669   \n",
       "178   313032     Berich    ООО «Компания БКС»  1808357.81     1530    699   \n",
       "1297  312756  poison202  АО «Открытие Брокер»   100000.00     2779   2705   \n",
       "601   313809    404FZJJ          ПАО Сбербанк   127323.98      450    329   \n",
       "\n",
       "      income_rub  income_percent  class      emb0  ...      emb8      emb9  \\\n",
       "97    -282827.00          -44.95      3 -1.293763  ... -0.496812 -0.265552   \n",
       "178   -349882.55          -19.35      3 -1.802730  ... -0.000516  0.119716   \n",
       "1297   -16442.04          -16.44      3 -1.171810  ... -0.545727 -0.334710   \n",
       "601     -7067.61           -5.55      4 -1.197966  ... -0.260245 -0.198911   \n",
       "\n",
       "         emb10     emb11     emb12     emb13     emb14     emb15     emb16  \\\n",
       "97   -0.008725  0.380518  0.766136  0.992240  1.626997  2.246816  2.490210   \n",
       "178   0.175087  0.278298  0.387398  0.495096  0.624963  0.914690  2.735015   \n",
       "1297  0.211780  0.264777  0.349686  0.452981  1.713019  2.414158  2.494526   \n",
       "601  -0.029728  0.423427  0.689152  0.769285  0.839109  0.995639  2.454454   \n",
       "\n",
       "         emb17  \n",
       "97    3.389451  \n",
       "178   3.013767  \n",
       "1297  2.533246  \n",
       "601   3.320551  \n",
       "\n",
       "[4 rows x 27 columns]"
      ]
     },
     "execution_count": 229,
     "metadata": {},
     "output_type": "execute_result"
    }
   ],
   "source": [
    "train.sample(4)"
   ]
  },
  {
   "cell_type": "markdown",
   "metadata": {},
   "source": [
    "# Соединение таблиц"
   ]
  },
  {
   "cell_type": "code",
   "execution_count": 198,
   "metadata": {},
   "outputs": [],
   "source": [
    "id_len = {id: len(data[id]['deals'] if data[id]['deals'] is not None else []) for id in train.id}"
   ]
  },
  {
   "cell_type": "code",
   "execution_count": null,
   "metadata": {},
   "outputs": [],
   "source": [
    "def concat_deals(dataset):\n",
    "    for id in dataset.id:\n",
    "        table = data[id]['deals']\n",
    "        if table is not None:\n",
    "            data[id]['deals'][\"id\"] = id\n",
    "    return pd.concat([ data[id]['deals'] for id in dataset.id ], ignore_index=True)\n",
    "                       \n",
    "    "
   ]
  },
  {
   "cell_type": "code",
   "execution_count": null,
   "metadata": {},
   "outputs": [],
   "source": [
    "train = pd.merge(concat_deals(train), train, on ='id') # по id соединяем юзера с его deals "
   ]
  },
  {
   "cell_type": "code",
   "execution_count": null,
   "metadata": {},
   "outputs": [],
   "source": [
    "def my_train_test_split(df, random_state=42, train_size = 0.75):\n",
    "    \n",
    "    X_train, X_test = pd.DataFrame(columns = X.columns), pd.DataFrame(columns = X.columns)\n",
    "    y_train, y_test = pd.Series([]), pd.Series([])\n",
    "    \n",
    "    while (len(X_train) / len(df)) < (train_size / (1-train_size)):\n",
    "        unique_ids = df.id.unique() \n",
    "        rand_id = unique_ids[randint(0, len(unique_ids)-1)] # рандомный id юзера\n",
    "        X_train = pd.concat([X_train, df[df.id==rand_id]], ignore_index=True) # добавляем в треин выборку операции этого юзера\n",
    "        y_train = y_train.append(pd.Series( [df[df.id == rand_id]['class'].values[0]] * id_len[rand_id] )) \n",
    "        df.drop(df[df.id == rand_id].index, inplace = True) # удаляем операции юзера из датафрейма, который потом станет тестовым\n",
    "    X_test = df.drop([\"class\", \"nickname\", \"Unnamed: 0\"], 1)\n",
    "    X_train = X_train.drop([\"class\", \"nickname\", \"Unnamed: 0\"], 1)\n",
    "    X_test = X_test[X_train.columns]\n",
    "    y_test = df['class']\n",
    "    return X_train, X_test, y_train, y_test"
   ]
  },
  {
   "cell_type": "code",
   "execution_count": null,
   "metadata": {},
   "outputs": [],
   "source": [
    "%%time\n",
    "X_train, X_test, y_train, y_test = my_train_test_split(train, train_size = 0.75)"
   ]
  },
  {
   "cell_type": "code",
   "execution_count": null,
   "metadata": {},
   "outputs": [],
   "source": [
    "def y_downsampling(model_predictions, dataset):\n",
    "    i = 0\n",
    "    y_pred = []\n",
    "    for id in dataset.id.unique():\n",
    "        mean_y = np.mean( model_predictions[i:i+id_len[id]]) # обработать выход за границу\n",
    "        y_pred = np.append(y_pred, round(mean_y))\n",
    "        i+=id_len[id]\n",
    "\n",
    "    return y_pred"
   ]
  },
  {
   "cell_type": "markdown",
   "metadata": {},
   "source": [
    "# Обучение моделей"
   ]
  },
  {
   "cell_type": "code",
   "execution_count": 210,
   "metadata": {
    "colab": {
     "base_uri": "https://localhost:8080/"
    },
    "id": "sb9KPnSDGkxa",
    "outputId": "b02335e3-fd02-4a53-a18e-f5288518c441"
   },
   "outputs": [],
   "source": [
    "# splitting train on train and test sets\n",
    "X = train.drop([\"class\", \"nickname\", \"id\"], 1)\n",
    "y = train[\"class\"]\n",
    "X_train, X_test, y_train, y_test = train_test_split(X, y, random_state=42, train_size = 0.75)"
   ]
  },
  {
   "cell_type": "markdown",
   "metadata": {},
   "source": [
    "СatBoostСlassifier "
   ]
  },
  {
   "cell_type": "code",
   "execution_count": 211,
   "metadata": {
    "colab": {
     "base_uri": "https://localhost:8080/"
    },
    "id": "AarBIOGy7Fu2",
    "outputId": "688f6f6d-05bc-4787-9213-100b9d1ecea8"
   },
   "outputs": [
    {
     "name": "stdout",
     "output_type": "stream",
     "text": [
      "Best Parameters: {'learning_rate': 0.05, 'l2_leaf_reg': 4, 'iterations': 300, 'depth': 5}\n",
      "Best CV Score: 0.643539124502835\n",
      "Wall time: 2min 59s\n"
     ]
    }
   ],
   "source": [
    "%%time\n",
    "\n",
    "cat_columns = X_train.select_dtypes(include=['object']).columns\n",
    "model = CatBoostClassifier(cat_features = [cat_columns[0]], verbose=0, loss_function='MultiClass')\n",
    "\n",
    "param_grid = {'iterations': [500, 1000, 300],\n",
    "              'learning_rate': [0.05, 0.1, 0.2],\n",
    "              'depth': [4, 5],\n",
    "              \"l2_leaf_reg\": [4, 10, 20]}\n",
    "\n",
    "grid_search = RandomizedSearchCV(estimator=model, \n",
    "                                 param_distributions=param_grid, \n",
    "                                 cv=5, \n",
    "                                 scoring='f1_macro', \n",
    "                                 error_score='raise', \n",
    "                                 n_iter=6)\n",
    "\n",
    "grid_search.fit(X_train, y_train, cat_features = [cat_columns[0]])\n",
    "\n",
    "print(\"Best Parameters:\", grid_search.best_params_)\n",
    "print(\"Best CV Score:\", grid_search.best_score_)"
   ]
  },
  {
   "cell_type": "code",
   "execution_count": 212,
   "metadata": {
    "colab": {
     "base_uri": "https://localhost:8080/"
    },
    "id": "I4sARs7FuKhG",
    "outputId": "3c560003-0c4e-43e8-83e2-8db5282b3262"
   },
   "outputs": [
    {
     "name": "stdout",
     "output_type": "stream",
     "text": [
      "Results of all configurations [0.63604867 0.62910017 0.64125614 0.63797162 0.64353912 0.63668285]\n"
     ]
    }
   ],
   "source": [
    "results = grid_search.cv_results_\n",
    "print(\"Results of all configurations\", results['mean_test_score'])"
   ]
  },
  {
   "cell_type": "markdown",
   "metadata": {},
   "source": [
    "Метрики"
   ]
  },
  {
   "cell_type": "code",
   "execution_count": 213,
   "metadata": {},
   "outputs": [],
   "source": [
    "def metrics(y_true, y_pred):\n",
    "    '''\n",
    "    calculation of metrics f1-score and RMSE\n",
    "    \n",
    "    parameters: y_true - series of right classes, y_pred - series of predicted classes\n",
    "    returns: rmse, f1 - tuple of metrics\n",
    "    '''\n",
    "    rmse = mean_squared_error(y_true, y_pred, squared=False)\n",
    "    f1 = f1_score(y_true, y_pred, average = 'micro')\n",
    "    return rmse, f1"
   ]
  },
  {
   "cell_type": "code",
   "execution_count": 214,
   "metadata": {},
   "outputs": [],
   "source": [
    "cbc = grid_search.best_estimator_\n",
    "y_pred_ts = cbc.predict(X_test)\n",
    "y_pred_tr = cbc.predict(X_train)"
   ]
  },
  {
   "cell_type": "code",
   "execution_count": 215,
   "metadata": {},
   "outputs": [
    {
     "name": "stdout",
     "output_type": "stream",
     "text": [
      "TRAIN: \n",
      "rmse:0.6056502514440457\n",
      "f1: 0.7816593886462881\n",
      "TEST: \n",
      "rmse:0.7414433355930093\n",
      "f1: 0.6335078534031413\n"
     ]
    }
   ],
   "source": [
    "metrics_tr = metrics(y_train, y_pred_tr)\n",
    "metrics_ts = metrics(y_test, y_pred_ts)\n",
    "\n",
    "print(f\"TRAIN: \\nrmse:{metrics_tr[0]}\\nf1: {metrics_tr[1]}\\nTEST: \\nrmse:{metrics_ts[0]}\\nf1: {metrics_ts[1]}\")\n"
   ]
  },
  {
   "cell_type": "code",
   "execution_count": 216,
   "metadata": {},
   "outputs": [
    {
     "name": "stdout",
     "output_type": "stream",
     "text": [
      "4.425268414449534 broker\n",
      "2.827229769581921 start_sum\n",
      "1.9767400871227072 request\n",
      "3.127336680108395 deals\n",
      "8.91698360243247 income_rub\n",
      "24.79258865745241 income_percent\n",
      "2.187725951606792 mean_deal_sum\n",
      "1.622479637961791 std_deal_sum\n",
      "1.924248025318956 len_deals\n",
      "0.94389146391633 stock_coef\n",
      "0.0506900228381901 curr_coef\n",
      "1.1949372125637379 fort_coef\n",
      "0.7281958397051762 freq_market\n",
      "23.84295730962185 income_percent_stats\n",
      "3.089698295377955 std_free_funds\n",
      "6.230930600603292 coef_free_funds\n",
      "4.943591858098928 coef_free_funds2\n",
      "1.8401430008478652 mean_free_funds\n",
      "3.7268951811534343 min_free_funds\n",
      "1.607468389238261 max_free_funds\n"
     ]
    }
   ],
   "source": [
    "for i, k in zip(cbc.get_feature_importance(), X_train.columns):\n",
    "    print(i, k)"
   ]
  },
  {
   "cell_type": "code",
   "execution_count": 217,
   "metadata": {},
   "outputs": [
    {
     "data": {
      "text/plain": [
       "<AxesSubplot:>"
      ]
     },
     "execution_count": 217,
     "metadata": {},
     "output_type": "execute_result"
    },
    {
     "data": {
      "image/png": "[encoded data removed]",
      "text/plain": [
       "<Figure size 432x288 with 2 Axes>"
      ]
     },
     "metadata": {
      "needs_background": "light"
     },
     "output_type": "display_data"
    }
   ],
   "source": [
    "sns.heatmap(confusion_matrix(y_test, y_pred_ts))"
   ]
  },
  {
   "cell_type": "markdown",
   "metadata": {},
   "source": [
    "По матрице ошибок видно, что модель ошибается в основном присваивая близкий к правильному класс.\n",
    "\n",
    "Хуже всего у моодели получается отличать 3 и 4 классы, а 1 и 5 модель определяет более менее стабильно.\n"
   ]
  },
  {
   "cell_type": "code",
   "execution_count": 118,
   "metadata": {},
   "outputs": [
    {
     "ename": "NameError",
     "evalue": "name 'y_downsampling' is not defined",
     "output_type": "error",
     "traceback": [
      "\u001b[1;31m---------------------------------------------------------------------------\u001b[0m",
      "\u001b[1;31mNameError\u001b[0m                                 Traceback (most recent call last)",
      "\u001b[1;32m~\\AppData\\Local\\Temp/ipykernel_14604/1402185321.py\u001b[0m in \u001b[0;36m<module>\u001b[1;34m\u001b[0m\n\u001b[1;32m----> 1\u001b[1;33m \u001b[0mmetrics\u001b[0m\u001b[1;33m(\u001b[0m\u001b[0my_downsampling\u001b[0m\u001b[1;33m(\u001b[0m\u001b[0my_test\u001b[0m\u001b[1;33m,\u001b[0m \u001b[0mX_test\u001b[0m\u001b[1;33m)\u001b[0m\u001b[1;33m,\u001b[0m \u001b[0my_downsampling\u001b[0m\u001b[1;33m(\u001b[0m\u001b[0my_pred_ts\u001b[0m\u001b[1;33m,\u001b[0m \u001b[0mX_test\u001b[0m\u001b[1;33m)\u001b[0m\u001b[1;33m)\u001b[0m\u001b[1;33m\u001b[0m\u001b[1;33m\u001b[0m\u001b[0m\n\u001b[0m",
      "\u001b[1;31mNameError\u001b[0m: name 'y_downsampling' is not defined"
     ]
    }
   ],
   "source": [
    "metrics(y_downsampling(y_test, X_test), y_downsampling(y_pred_ts, X_test))"
   ]
  },
  {
   "cell_type": "markdown",
   "metadata": {},
   "source": [
    "# Сравнение результатов"
   ]
  },
  {
   "cell_type": "code",
   "execution_count": 179,
   "metadata": {},
   "outputs": [],
   "source": [
    "discription = \"эмб21, ДилсВсе, ПСАотд, Апрокс, -dl\""
   ]
  },
  {
   "cell_type": "code",
   "execution_count": 180,
   "metadata": {},
   "outputs": [],
   "source": [
    "config_comparing = pd.read_csv(\"model_configs.csv\", index_col=0)\n",
    "config_comparing.loc[config_comparing.shape[0]] = [discription, *metrics_tr, *metrics_ts, *grid_search.best_params_.values()]"
   ]
  },
  {
   "cell_type": "code",
   "execution_count": 181,
   "metadata": {},
   "outputs": [
    {
     "data": {
      "text/html": [
       "<div>\n",
       "<style scoped>\n",
       "    .dataframe tbody tr th:only-of-type {\n",
       "        vertical-align: middle;\n",
       "    }\n",
       "\n",
       "    .dataframe tbody tr th {\n",
       "        vertical-align: top;\n",
       "    }\n",
       "\n",
       "    .dataframe thead th {\n",
       "        text-align: right;\n",
       "    }\n",
       "</style>\n",
       "<table border=\"1\" class=\"dataframe\">\n",
       "  <thead>\n",
       "    <tr style=\"text-align: right;\">\n",
       "      <th></th>\n",
       "      <th>discription</th>\n",
       "      <th>rmse_train</th>\n",
       "      <th>f1_train</th>\n",
       "      <th>rmse_test</th>\n",
       "      <th>f1_test</th>\n",
       "      <th>lr</th>\n",
       "      <th>reg</th>\n",
       "      <th>iter</th>\n",
       "      <th>dep</th>\n",
       "    </tr>\n",
       "  </thead>\n",
       "  <tbody>\n",
       "    <tr>\n",
       "      <th>0</th>\n",
       "      <td>эмб5, ДилсВсе, ПСАотд, фиксРанд</td>\n",
       "      <td>0.406283</td>\n",
       "      <td>0.919651</td>\n",
       "      <td>0.753699</td>\n",
       "      <td>0.609948</td>\n",
       "      <td>0.10</td>\n",
       "      <td>30</td>\n",
       "      <td>1000</td>\n",
       "      <td>5</td>\n",
       "    </tr>\n",
       "    <tr>\n",
       "      <th>1</th>\n",
       "      <td>эмб0, ДилсВсе</td>\n",
       "      <td>0.544925</td>\n",
       "      <td>0.831441</td>\n",
       "      <td>0.757165</td>\n",
       "      <td>0.604712</td>\n",
       "      <td>0.10</td>\n",
       "      <td>7</td>\n",
       "      <td>500</td>\n",
       "      <td>4</td>\n",
       "    </tr>\n",
       "    <tr>\n",
       "      <th>2</th>\n",
       "      <td>эмб5, ДилсНеВсе, ПСАотд, фиксРанд</td>\n",
       "      <td>0.522005</td>\n",
       "      <td>0.834061</td>\n",
       "      <td>0.680699</td>\n",
       "      <td>0.651832</td>\n",
       "      <td>0.05</td>\n",
       "      <td>3</td>\n",
       "      <td>500</td>\n",
       "      <td>4</td>\n",
       "    </tr>\n",
       "    <tr>\n",
       "      <th>3</th>\n",
       "      <td>эмб0, ДилсНеВсе</td>\n",
       "      <td>0.490966</td>\n",
       "      <td>0.869869</td>\n",
       "      <td>0.707107</td>\n",
       "      <td>0.651832</td>\n",
       "      <td>0.10</td>\n",
       "      <td>7</td>\n",
       "      <td>500</td>\n",
       "      <td>4</td>\n",
       "    </tr>\n",
       "    <tr>\n",
       "      <th>4</th>\n",
       "      <td>эмб5, ДилсНеВсе, ПСАотд, фиксСотрДист</td>\n",
       "      <td>0.335654</td>\n",
       "      <td>0.935371</td>\n",
       "      <td>0.708955</td>\n",
       "      <td>0.657068</td>\n",
       "      <td>0.05</td>\n",
       "      <td>1</td>\n",
       "      <td>500</td>\n",
       "      <td>5</td>\n",
       "    </tr>\n",
       "    <tr>\n",
       "      <th>5</th>\n",
       "      <td>ГолыеЭмб, ДилсВсе</td>\n",
       "      <td>1.508925</td>\n",
       "      <td>0.567685</td>\n",
       "      <td>1.915765</td>\n",
       "      <td>0.261780</td>\n",
       "      <td>0.05</td>\n",
       "      <td>7</td>\n",
       "      <td>500</td>\n",
       "      <td>5</td>\n",
       "    </tr>\n",
       "    <tr>\n",
       "      <th>6</th>\n",
       "      <td>просто треин</td>\n",
       "      <td>0.755186</td>\n",
       "      <td>0.722271</td>\n",
       "      <td>0.851546</td>\n",
       "      <td>0.591623</td>\n",
       "      <td>0.05</td>\n",
       "      <td>30</td>\n",
       "      <td>1000</td>\n",
       "      <td>5</td>\n",
       "    </tr>\n",
       "    <tr>\n",
       "      <th>7</th>\n",
       "      <td>эмб7, ДилсНеВсе, ПСАотд, фиксСортДист</td>\n",
       "      <td>0.414791</td>\n",
       "      <td>0.910917</td>\n",
       "      <td>0.661190</td>\n",
       "      <td>0.670157</td>\n",
       "      <td>0.10</td>\n",
       "      <td>30</td>\n",
       "      <td>1000</td>\n",
       "      <td>5</td>\n",
       "    </tr>\n",
       "    <tr>\n",
       "      <th>8</th>\n",
       "      <td>эмб3, ДилсНеВсе, ПСАотд, фиксСортДист</td>\n",
       "      <td>0.490966</td>\n",
       "      <td>0.867248</td>\n",
       "      <td>0.678773</td>\n",
       "      <td>0.662303</td>\n",
       "      <td>0.05</td>\n",
       "      <td>1</td>\n",
       "      <td>500</td>\n",
       "      <td>7</td>\n",
       "    </tr>\n",
       "    <tr>\n",
       "      <th>9</th>\n",
       "      <td>эмб20, ДилсНеВсе, ПСАотд, фиксСортДист</td>\n",
       "      <td>0.252498</td>\n",
       "      <td>0.962445</td>\n",
       "      <td>0.667103</td>\n",
       "      <td>0.683246</td>\n",
       "      <td>0.10</td>\n",
       "      <td>7</td>\n",
       "      <td>500</td>\n",
       "      <td>7</td>\n",
       "    </tr>\n",
       "    <tr>\n",
       "      <th>10</th>\n",
       "      <td>эмб4, ДилсНеВсе, ПСАотд, РаспХар</td>\n",
       "      <td>0.245483</td>\n",
       "      <td>0.967686</td>\n",
       "      <td>0.682619</td>\n",
       "      <td>0.672775</td>\n",
       "      <td>0.05</td>\n",
       "      <td>7</td>\n",
       "      <td>1000</td>\n",
       "      <td>7</td>\n",
       "    </tr>\n",
       "    <tr>\n",
       "      <th>11</th>\n",
       "      <td>эмб5, ДилсНеВсе, ПСАотд, Апрокс</td>\n",
       "      <td>0.125382</td>\n",
       "      <td>0.989520</td>\n",
       "      <td>0.686443</td>\n",
       "      <td>0.683246</td>\n",
       "      <td>0.05</td>\n",
       "      <td>1</td>\n",
       "      <td>500</td>\n",
       "      <td>7</td>\n",
       "    </tr>\n",
       "    <tr>\n",
       "      <th>12</th>\n",
       "      <td>эмб15, ДилсНеВсе, ПСАотд, Апрокс</td>\n",
       "      <td>0.078189</td>\n",
       "      <td>0.996507</td>\n",
       "      <td>0.655225</td>\n",
       "      <td>0.693717</td>\n",
       "      <td>0.10</td>\n",
       "      <td>3</td>\n",
       "      <td>1000</td>\n",
       "      <td>7</td>\n",
       "    </tr>\n",
       "    <tr>\n",
       "      <th>13</th>\n",
       "      <td>-выбр, эмб15, ДилсНеВсе, ПСАотд, Апрокс</td>\n",
       "      <td>0.289617</td>\n",
       "      <td>0.959695</td>\n",
       "      <td>0.700140</td>\n",
       "      <td>0.686275</td>\n",
       "      <td>0.05</td>\n",
       "      <td>3</td>\n",
       "      <td>1000</td>\n",
       "      <td>5</td>\n",
       "    </tr>\n",
       "    <tr>\n",
       "      <th>14</th>\n",
       "      <td>эмб16, ДилсНеВсе(эмбвсе), ПСАотд, Апрокс</td>\n",
       "      <td>0.505861</td>\n",
       "      <td>0.855022</td>\n",
       "      <td>0.651217</td>\n",
       "      <td>0.709424</td>\n",
       "      <td>0.10</td>\n",
       "      <td>120</td>\n",
       "      <td>1000</td>\n",
       "      <td>4</td>\n",
       "    </tr>\n",
       "    <tr>\n",
       "      <th>15</th>\n",
       "      <td>эмб16, ДилсНеВсе, ПСАотд, Апрокс</td>\n",
       "      <td>0.432319</td>\n",
       "      <td>0.900437</td>\n",
       "      <td>0.647185</td>\n",
       "      <td>0.727749</td>\n",
       "      <td>0.10</td>\n",
       "      <td>60</td>\n",
       "      <td>1000</td>\n",
       "      <td>5</td>\n",
       "    </tr>\n",
       "    <tr>\n",
       "      <th>16</th>\n",
       "      <td>эмб16, ДилсВсе, ПСАотд, Апрокс, -dl</td>\n",
       "      <td>0.602759</td>\n",
       "      <td>0.805240</td>\n",
       "      <td>0.737904</td>\n",
       "      <td>0.641361</td>\n",
       "      <td>0.05</td>\n",
       "      <td>20</td>\n",
       "      <td>1000</td>\n",
       "      <td>4</td>\n",
       "    </tr>\n",
       "    <tr>\n",
       "      <th>17</th>\n",
       "      <td>эмб9, ДилсВсе, ПСАотд, Апрокс, -dl</td>\n",
       "      <td>0.482895</td>\n",
       "      <td>0.868996</td>\n",
       "      <td>0.753699</td>\n",
       "      <td>0.630890</td>\n",
       "      <td>0.05</td>\n",
       "      <td>4</td>\n",
       "      <td>500</td>\n",
       "      <td>5</td>\n",
       "    </tr>\n",
       "    <tr>\n",
       "      <th>18</th>\n",
       "      <td>эмб21, ДилсВсе, ПСАотд, Апрокс, -dl</td>\n",
       "      <td>0.544123</td>\n",
       "      <td>0.845415</td>\n",
       "      <td>0.751961</td>\n",
       "      <td>0.633508</td>\n",
       "      <td>0.05</td>\n",
       "      <td>10</td>\n",
       "      <td>1000</td>\n",
       "      <td>4</td>\n",
       "    </tr>\n",
       "  </tbody>\n",
       "</table>\n",
       "</div>"
      ],
      "text/plain": [
       "                                 discription  rmse_train  f1_train  rmse_test  \\\n",
       "0            эмб5, ДилсВсе, ПСАотд, фиксРанд    0.406283  0.919651   0.753699   \n",
       "1                              эмб0, ДилсВсе    0.544925  0.831441   0.757165   \n",
       "2          эмб5, ДилсНеВсе, ПСАотд, фиксРанд    0.522005  0.834061   0.680699   \n",
       "3                            эмб0, ДилсНеВсе    0.490966  0.869869   0.707107   \n",
       "4      эмб5, ДилсНеВсе, ПСАотд, фиксСотрДист    0.335654  0.935371   0.708955   \n",
       "5                          ГолыеЭмб, ДилсВсе    1.508925  0.567685   1.915765   \n",
       "6                               просто треин    0.755186  0.722271   0.851546   \n",
       "7      эмб7, ДилсНеВсе, ПСАотд, фиксСортДист    0.414791  0.910917   0.661190   \n",
       "8      эмб3, ДилсНеВсе, ПСАотд, фиксСортДист    0.490966  0.867248   0.678773   \n",
       "9     эмб20, ДилсНеВсе, ПСАотд, фиксСортДист    0.252498  0.962445   0.667103   \n",
       "10          эмб4, ДилсНеВсе, ПСАотд, РаспХар    0.245483  0.967686   0.682619   \n",
       "11           эмб5, ДилсНеВсе, ПСАотд, Апрокс    0.125382  0.989520   0.686443   \n",
       "12          эмб15, ДилсНеВсе, ПСАотд, Апрокс    0.078189  0.996507   0.655225   \n",
       "13   -выбр, эмб15, ДилсНеВсе, ПСАотд, Апрокс    0.289617  0.959695   0.700140   \n",
       "14  эмб16, ДилсНеВсе(эмбвсе), ПСАотд, Апрокс    0.505861  0.855022   0.651217   \n",
       "15          эмб16, ДилсНеВсе, ПСАотд, Апрокс    0.432319  0.900437   0.647185   \n",
       "16       эмб16, ДилсВсе, ПСАотд, Апрокс, -dl    0.602759  0.805240   0.737904   \n",
       "17        эмб9, ДилсВсе, ПСАотд, Апрокс, -dl    0.482895  0.868996   0.753699   \n",
       "18       эмб21, ДилсВсе, ПСАотд, Апрокс, -dl    0.544123  0.845415   0.751961   \n",
       "\n",
       "     f1_test    lr  reg  iter  dep  \n",
       "0   0.609948  0.10   30  1000    5  \n",
       "1   0.604712  0.10    7   500    4  \n",
       "2   0.651832  0.05    3   500    4  \n",
       "3   0.651832  0.10    7   500    4  \n",
       "4   0.657068  0.05    1   500    5  \n",
       "5   0.261780  0.05    7   500    5  \n",
       "6   0.591623  0.05   30  1000    5  \n",
       "7   0.670157  0.10   30  1000    5  \n",
       "8   0.662303  0.05    1   500    7  \n",
       "9   0.683246  0.10    7   500    7  \n",
       "10  0.672775  0.05    7  1000    7  \n",
       "11  0.683246  0.05    1   500    7  \n",
       "12  0.693717  0.10    3  1000    7  \n",
       "13  0.686275  0.05    3  1000    5  \n",
       "14  0.709424  0.10  120  1000    4  \n",
       "15  0.727749  0.10   60  1000    5  \n",
       "16  0.641361  0.05   20  1000    4  \n",
       "17  0.630890  0.05    4   500    5  \n",
       "18  0.633508  0.05   10  1000    4  "
      ]
     },
     "execution_count": 181,
     "metadata": {},
     "output_type": "execute_result"
    }
   ],
   "source": [
    "pd.reset_option('display.max_colwidth', 100)\n",
    "config_comparing"
   ]
  },
  {
   "cell_type": "code",
   "execution_count": 164,
   "metadata": {},
   "outputs": [],
   "source": [
    "config_comparing.to_csv(\"model_configs.csv\")"
   ]
  },
  {
   "cell_type": "markdown",
   "metadata": {
    "id": "JtxMZXI1JUuw"
   },
   "source": [
    "# Мусорка"
   ]
  },
  {
   "cell_type": "code",
   "execution_count": 182,
   "metadata": {},
   "outputs": [
    {
     "data": {
      "text/plain": [
       "0.6335078534031413"
      ]
     },
     "execution_count": 182,
     "metadata": {},
     "output_type": "execute_result"
    }
   ],
   "source": [
    "from sklearn.metrics import accuracy_score\n",
    "score = accuracy_score(y_test, y_pred_ts)\n",
    "score"
   ]
  },
  {
   "cell_type": "code",
   "execution_count": 445,
   "metadata": {},
   "outputs": [
    {
     "data": {
      "text/plain": [
       "5"
      ]
     },
     "execution_count": 445,
     "metadata": {},
     "output_type": "execute_result"
    }
   ],
   "source": [
    "tables_counter = []\n",
    "\n",
    "for mode in [\"train\", \"test\"]:\n",
    "    ids = train.id if mode==\"train\" else final_test.id\n",
    "    for id in ids:\n",
    "        deals_1 = f'{DIRECTORY}data/{mode}/{mode}_deals/1_{id}.csv'\n",
    "        deals_2 = f'{DIRECTORY}data/{mode}/{mode}_deals/2_{id}.csv'\n",
    "        deals_3 = f'{DIRECTORY}data/{mode}/{mode}_deals/3_{id}.csv'\n",
    "        tables_counter.append(os.path.exists(deals_1) + os.path.exists(deals_2) + os.path.exists(deals_3))\n",
    "tables_counter.count(0)"
   ]
  },
  {
   "cell_type": "code",
   "execution_count": 16,
   "metadata": {},
   "outputs": [
    {
     "data": {
      "text/plain": [
       "<AxesSubplot:>"
      ]
     },
     "execution_count": 16,
     "metadata": {},
     "output_type": "execute_result"
    },
    {
     "data": {
      "image/png": "[encoded data removed]",
      "text/plain": [
       "<Figure size 432x288 with 1 Axes>"
      ]
     },
     "metadata": {
      "needs_background": "light"
     },
     "output_type": "display_data"
    }
   ],
   "source": [
    "pd.Series(tables_counter).hist()"
   ]
  },
  {
   "cell_type": "code",
   "execution_count": 19,
   "metadata": {},
   "outputs": [
    {
     "data": {
      "text/plain": [
       "<AxesSubplot:>"
      ]
     },
     "execution_count": 19,
     "metadata": {},
     "output_type": "execute_result"
    },
    {
     "data": {
      "image/png": "[encoded data removed]",
      "text/plain": [
       "<Figure size 432x288 with 1 Axes>"
      ]
     },
     "metadata": {
      "needs_background": "light"
     },
     "output_type": "display_data"
    }
   ],
   "source": [
    "tables_exists = []\n",
    "\n",
    "for mode in [\"train\", \"test\"]:\n",
    "    ids = train.id if mode==\"train\" else final_test.id\n",
    "    for id in ids:\n",
    "        deals_1 = f'{DIRECTORY}data/{mode}/{mode}_deals/1_{id}.csv'\n",
    "        deals_2 = f'{DIRECTORY}data/{mode}/{mode}_deals/2_{id}.csv'\n",
    "        deals_3 = f'{DIRECTORY}data/{mode}/{mode}_deals/3_{id}.csv'\n",
    "        if os.path.exists(deals_1):\n",
    "            tables_exists.append(1)\n",
    "        if os.path.exists(deals_2):\n",
    "            tables_exists.append(2)\n",
    "        if os.path.exists(deals_3):\n",
    "            tables_exists.append(3)\n",
    "pd.Series(tables_exists).hist()"
   ]
  },
  {
   "cell_type": "code",
   "execution_count": 23,
   "metadata": {},
   "outputs": [
    {
     "data": {
      "text/plain": [
       "<AxesSubplot:>"
      ]
     },
     "execution_count": 23,
     "metadata": {},
     "output_type": "execute_result"
    },
    {
     "data": {
      "image/png": "[encoded data removed]",
      "text/plain": [
       "<Figure size 432x288 with 1 Axes>"
      ]
     },
     "metadata": {
      "needs_background": "light"
     },
     "output_type": "display_data"
    }
   ],
   "source": [
    "len_deals_1 = []\n",
    "len_deals_2 = []\n",
    "len_deals_3 = []\n",
    "\n",
    "for mode in [\"train\", \"test\"]:\n",
    "    ids = train.id if mode==\"train\" else final_test.id\n",
    "    for id in ids:\n",
    "        deals_1 = f'{DIRECTORY}data/{mode}/{mode}_deals/1_{id}.csv'\n",
    "        deals_2 = f'{DIRECTORY}data/{mode}/{mode}_deals/2_{id}.csv'\n",
    "        deals_3 = f'{DIRECTORY}data/{mode}/{mode}_deals/3_{id}.csv'\n",
    "        if os.path.exists(deals_1):\n",
    "            len_deals_1.append(len(pd.read_csv(deals_1)))\n",
    "        if os.path.exists(deals_2):\n",
    "            len_deals_2.append(len(pd.read_csv(deals_2)))\n",
    "        if os.path.exists(deals_3):\n",
    "            len_deals_3.append(len(pd.read_csv(deals_3)))"
   ]
  },
  {
   "cell_type": "code",
   "execution_count": 28,
   "metadata": {},
   "outputs": [
    {
     "name": "stdout",
     "output_type": "stream",
     "text": [
      "416 416\n"
     ]
    }
   ],
   "source": [
    "print(len(set(len_deals_1)), len([len_deals_1.count(i) for i in set(len_deals_1)]))"
   ]
  },
  {
   "cell_type": "code",
   "execution_count": 36,
   "metadata": {},
   "outputs": [
    {
     "name": "stderr",
     "output_type": "stream",
     "text": [
      "No handles with labels found to put in legend.\n"
     ]
    },
    {
     "data": {
      "text/plain": [
       "<matplotlib.legend.Legend at 0x1b18b9af190>"
      ]
     },
     "execution_count": 36,
     "metadata": {},
     "output_type": "execute_result"
    },
    {
     "data": {
      "image/png": "[encoded data removed]",
      "text/plain": [
       "<Figure size 1296x576 with 1 Axes>"
      ]
     },
     "metadata": {
      "needs_background": "light"
     },
     "output_type": "display_data"
    }
   ],
   "source": [
    "import matplotlib.pyplot as plt\n",
    "fig, axes = plt.subplots(figsize = (18, 8))\n",
    "axes.plot(list(set(len_deals_1)), [len_deals_1.count(i) for i in set(len_deals_1)])\n",
    "axes.plot(list(set(len_deals_2)), [len_deals_2.count(i) for i in set(len_deals_2)])\n",
    "axes.plot(list(set(len_deals_3)), [len_deals_3.count(i) for i in set(len_deals_3)])\n",
    "axes.set_xlabel(\"длина\", fontsize = 16)\n",
    "axes.set_ylabel(\"частота\", fontsize = 16)\n",
    "axes.legend(fontsize = 14)"
   ]
  },
  {
   "cell_type": "code",
   "execution_count": 451,
   "metadata": {},
   "outputs": [
    {
     "data": {
      "text/plain": [
       "0.5968586387434555"
      ]
     },
     "execution_count": 451,
     "metadata": {},
     "output_type": "execute_result"
    }
   ],
   "source": [
    "from sklearn.metrics import accuracy_score\n",
    "accuracy_score(y_test, y_pred_ts)"
   ]
  },
  {
   "cell_type": "code",
   "execution_count": 246,
   "metadata": {},
   "outputs": [
    {
     "data": {
      "text/plain": [
       "<matplotlib.collections.PathCollection at 0x2175608fe20>"
      ]
     },
     "execution_count": 246,
     "metadata": {},
     "output_type": "execute_result"
    },
    {
     "data": {
      "image/png": "[encoded data removed]",
      "text/plain": [
       "<Figure size 1080x432 with 1 Axes>"
      ]
     },
     "metadata": {
      "needs_background": "light"
     },
     "output_type": "display_data"
    }
   ],
   "source": [
    "import matplotlib.pyplot as plt\n",
    "plt.figure(figsize=(15,6))\n",
    "plt.scatter(adding_embedings(train)[0], adding_embedings(train)[1], [1])\n"
   ]
  },
  {
   "cell_type": "code",
   "execution_count": 407,
   "metadata": {},
   "outputs": [
    {
     "data": {
      "text/plain": [
       "[1, 4, 7, 9]"
      ]
     },
     "execution_count": 407,
     "metadata": {},
     "output_type": "execute_result"
    }
   ],
   "source": [
    "d_pca=[1, 2, 3, 4, 5, 6, 7, 8, 9]\n",
    "fix_size = 4\n",
    "[d_pca[i*(len(d_pca)//(fix_size-1)) if i!=fix_size-1 else -1] for i in range(fix_size)]"
   ]
  },
  {
   "cell_type": "code",
   "execution_count": 16,
   "metadata": {},
   "outputs": [
    {
     "ename": "AttributeError",
     "evalue": "'DataFrame' object has no attribute 'exist'",
     "output_type": "error",
     "traceback": [
      "\u001b[1;31m---------------------------------------------------------------------------\u001b[0m",
      "\u001b[1;31mAttributeError\u001b[0m                            Traceback (most recent call last)",
      "\u001b[1;32m~\\AppData\\Local\\Temp/ipykernel_28352/1164872059.py\u001b[0m in \u001b[0;36m<module>\u001b[1;34m\u001b[0m\n\u001b[1;32m----> 1\u001b[1;33m \u001b[0maccount_condition\u001b[0m\u001b[1;33m.\u001b[0m\u001b[0mexist\u001b[0m\u001b[1;33m(\u001b[0m\u001b[1;33m)\u001b[0m\u001b[1;33m\u001b[0m\u001b[1;33m\u001b[0m\u001b[0m\n\u001b[0m",
      "\u001b[1;32m~\\anaconda3\\lib\\site-packages\\pandas\\core\\generic.py\u001b[0m in \u001b[0;36m__getattr__\u001b[1;34m(self, name)\u001b[0m\n\u001b[0;32m   5485\u001b[0m         ):\n\u001b[0;32m   5486\u001b[0m             \u001b[1;32mreturn\u001b[0m \u001b[0mself\u001b[0m\u001b[1;33m[\u001b[0m\u001b[0mname\u001b[0m\u001b[1;33m]\u001b[0m\u001b[1;33m\u001b[0m\u001b[1;33m\u001b[0m\u001b[0m\n\u001b[1;32m-> 5487\u001b[1;33m         \u001b[1;32mreturn\u001b[0m \u001b[0mobject\u001b[0m\u001b[1;33m.\u001b[0m\u001b[0m__getattribute__\u001b[0m\u001b[1;33m(\u001b[0m\u001b[0mself\u001b[0m\u001b[1;33m,\u001b[0m \u001b[0mname\u001b[0m\u001b[1;33m)\u001b[0m\u001b[1;33m\u001b[0m\u001b[1;33m\u001b[0m\u001b[0m\n\u001b[0m\u001b[0;32m   5488\u001b[0m \u001b[1;33m\u001b[0m\u001b[0m\n\u001b[0;32m   5489\u001b[0m     \u001b[1;32mdef\u001b[0m \u001b[0m__setattr__\u001b[0m\u001b[1;33m(\u001b[0m\u001b[0mself\u001b[0m\u001b[1;33m,\u001b[0m \u001b[0mname\u001b[0m\u001b[1;33m:\u001b[0m \u001b[0mstr\u001b[0m\u001b[1;33m,\u001b[0m \u001b[0mvalue\u001b[0m\u001b[1;33m)\u001b[0m \u001b[1;33m->\u001b[0m \u001b[1;32mNone\u001b[0m\u001b[1;33m:\u001b[0m\u001b[1;33m\u001b[0m\u001b[1;33m\u001b[0m\u001b[0m\n",
      "\u001b[1;31mAttributeError\u001b[0m: 'DataFrame' object has no attribute 'exist'"
     ]
    }
   ],
   "source": [
    "account_condition.exist()"
   ]
  },
  {
   "cell_type": "code",
   "execution_count": 13,
   "metadata": {},
   "outputs": [
    {
     "data": {
      "text/plain": [
       "18"
      ]
     },
     "execution_count": 13,
     "metadata": {},
     "output_type": "execute_result"
    }
   ],
   "source": [
    "a = w = i = 9\n",
    "w+i"
   ]
  },
  {
   "cell_type": "code",
   "execution_count": 54,
   "metadata": {},
   "outputs": [
    {
     "ename": "FileNotFoundError",
     "evalue": "[Errno 2] No such file or directory: '/content/data/test/test.csv'",
     "output_type": "error",
     "traceback": [
      "\u001b[1;31m---------------------------------------------------------------------------\u001b[0m",
      "\u001b[1;31mFileNotFoundError\u001b[0m                         Traceback (most recent call last)",
      "\u001b[1;32m~\\AppData\\Local\\Temp/ipykernel_20432/2740557387.py\u001b[0m in \u001b[0;36m<module>\u001b[1;34m\u001b[0m\n\u001b[0;32m     10\u001b[0m \u001b[0mlist_cnt_tables\u001b[0m \u001b[1;33m=\u001b[0m \u001b[1;33m[\u001b[0m\u001b[1;33m]\u001b[0m\u001b[1;33m\u001b[0m\u001b[1;33m\u001b[0m\u001b[0m\n\u001b[0;32m     11\u001b[0m \u001b[1;33m\u001b[0m\u001b[0m\n\u001b[1;32m---> 12\u001b[1;33m \u001b[0mmain\u001b[0m \u001b[1;33m=\u001b[0m \u001b[0mpd\u001b[0m\u001b[1;33m.\u001b[0m\u001b[0mread_csv\u001b[0m\u001b[1;33m(\u001b[0m\u001b[1;34mf'/content/data/test/test.csv'\u001b[0m\u001b[1;33m,\u001b[0m \u001b[0msep\u001b[0m \u001b[1;33m=\u001b[0m \u001b[1;34m','\u001b[0m\u001b[1;33m)\u001b[0m\u001b[1;33m\u001b[0m\u001b[1;33m\u001b[0m\u001b[0m\n\u001b[0m\u001b[0;32m     13\u001b[0m \u001b[0mids\u001b[0m \u001b[1;33m=\u001b[0m \u001b[0mmain\u001b[0m\u001b[1;33m[\u001b[0m\u001b[1;34m'id'\u001b[0m\u001b[1;33m]\u001b[0m\u001b[1;33m\u001b[0m\u001b[1;33m\u001b[0m\u001b[0m\n\u001b[0;32m     14\u001b[0m \u001b[1;33m\u001b[0m\u001b[0m\n",
      "\u001b[1;32m~\\anaconda3\\lib\\site-packages\\pandas\\util\\_decorators.py\u001b[0m in \u001b[0;36mwrapper\u001b[1;34m(*args, **kwargs)\u001b[0m\n\u001b[0;32m    309\u001b[0m                     \u001b[0mstacklevel\u001b[0m\u001b[1;33m=\u001b[0m\u001b[0mstacklevel\u001b[0m\u001b[1;33m,\u001b[0m\u001b[1;33m\u001b[0m\u001b[1;33m\u001b[0m\u001b[0m\n\u001b[0;32m    310\u001b[0m                 )\n\u001b[1;32m--> 311\u001b[1;33m             \u001b[1;32mreturn\u001b[0m \u001b[0mfunc\u001b[0m\u001b[1;33m(\u001b[0m\u001b[1;33m*\u001b[0m\u001b[0margs\u001b[0m\u001b[1;33m,\u001b[0m \u001b[1;33m**\u001b[0m\u001b[0mkwargs\u001b[0m\u001b[1;33m)\u001b[0m\u001b[1;33m\u001b[0m\u001b[1;33m\u001b[0m\u001b[0m\n\u001b[0m\u001b[0;32m    312\u001b[0m \u001b[1;33m\u001b[0m\u001b[0m\n\u001b[0;32m    313\u001b[0m         \u001b[1;32mreturn\u001b[0m \u001b[0mwrapper\u001b[0m\u001b[1;33m\u001b[0m\u001b[1;33m\u001b[0m\u001b[0m\n",
      "\u001b[1;32m~\\anaconda3\\lib\\site-packages\\pandas\\io\\parsers\\readers.py\u001b[0m in \u001b[0;36mread_csv\u001b[1;34m(filepath_or_buffer, sep, delimiter, header, names, index_col, usecols, squeeze, prefix, mangle_dupe_cols, dtype, engine, converters, true_values, false_values, skipinitialspace, skiprows, skipfooter, nrows, na_values, keep_default_na, na_filter, verbose, skip_blank_lines, parse_dates, infer_datetime_format, keep_date_col, date_parser, dayfirst, cache_dates, iterator, chunksize, compression, thousands, decimal, lineterminator, quotechar, quoting, doublequote, escapechar, comment, encoding, encoding_errors, dialect, error_bad_lines, warn_bad_lines, on_bad_lines, delim_whitespace, low_memory, memory_map, float_precision, storage_options)\u001b[0m\n\u001b[0;32m    584\u001b[0m     \u001b[0mkwds\u001b[0m\u001b[1;33m.\u001b[0m\u001b[0mupdate\u001b[0m\u001b[1;33m(\u001b[0m\u001b[0mkwds_defaults\u001b[0m\u001b[1;33m)\u001b[0m\u001b[1;33m\u001b[0m\u001b[1;33m\u001b[0m\u001b[0m\n\u001b[0;32m    585\u001b[0m \u001b[1;33m\u001b[0m\u001b[0m\n\u001b[1;32m--> 586\u001b[1;33m     \u001b[1;32mreturn\u001b[0m \u001b[0m_read\u001b[0m\u001b[1;33m(\u001b[0m\u001b[0mfilepath_or_buffer\u001b[0m\u001b[1;33m,\u001b[0m \u001b[0mkwds\u001b[0m\u001b[1;33m)\u001b[0m\u001b[1;33m\u001b[0m\u001b[1;33m\u001b[0m\u001b[0m\n\u001b[0m\u001b[0;32m    587\u001b[0m \u001b[1;33m\u001b[0m\u001b[0m\n\u001b[0;32m    588\u001b[0m \u001b[1;33m\u001b[0m\u001b[0m\n",
      "\u001b[1;32m~\\anaconda3\\lib\\site-packages\\pandas\\io\\parsers\\readers.py\u001b[0m in \u001b[0;36m_read\u001b[1;34m(filepath_or_buffer, kwds)\u001b[0m\n\u001b[0;32m    480\u001b[0m \u001b[1;33m\u001b[0m\u001b[0m\n\u001b[0;32m    481\u001b[0m     \u001b[1;31m# Create the parser.\u001b[0m\u001b[1;33m\u001b[0m\u001b[1;33m\u001b[0m\u001b[0m\n\u001b[1;32m--> 482\u001b[1;33m     \u001b[0mparser\u001b[0m \u001b[1;33m=\u001b[0m \u001b[0mTextFileReader\u001b[0m\u001b[1;33m(\u001b[0m\u001b[0mfilepath_or_buffer\u001b[0m\u001b[1;33m,\u001b[0m \u001b[1;33m**\u001b[0m\u001b[0mkwds\u001b[0m\u001b[1;33m)\u001b[0m\u001b[1;33m\u001b[0m\u001b[1;33m\u001b[0m\u001b[0m\n\u001b[0m\u001b[0;32m    483\u001b[0m \u001b[1;33m\u001b[0m\u001b[0m\n\u001b[0;32m    484\u001b[0m     \u001b[1;32mif\u001b[0m \u001b[0mchunksize\u001b[0m \u001b[1;32mor\u001b[0m \u001b[0miterator\u001b[0m\u001b[1;33m:\u001b[0m\u001b[1;33m\u001b[0m\u001b[1;33m\u001b[0m\u001b[0m\n",
      "\u001b[1;32m~\\anaconda3\\lib\\site-packages\\pandas\\io\\parsers\\readers.py\u001b[0m in \u001b[0;36m__init__\u001b[1;34m(self, f, engine, **kwds)\u001b[0m\n\u001b[0;32m    809\u001b[0m             \u001b[0mself\u001b[0m\u001b[1;33m.\u001b[0m\u001b[0moptions\u001b[0m\u001b[1;33m[\u001b[0m\u001b[1;34m\"has_index_names\"\u001b[0m\u001b[1;33m]\u001b[0m \u001b[1;33m=\u001b[0m \u001b[0mkwds\u001b[0m\u001b[1;33m[\u001b[0m\u001b[1;34m\"has_index_names\"\u001b[0m\u001b[1;33m]\u001b[0m\u001b[1;33m\u001b[0m\u001b[1;33m\u001b[0m\u001b[0m\n\u001b[0;32m    810\u001b[0m \u001b[1;33m\u001b[0m\u001b[0m\n\u001b[1;32m--> 811\u001b[1;33m         \u001b[0mself\u001b[0m\u001b[1;33m.\u001b[0m\u001b[0m_engine\u001b[0m \u001b[1;33m=\u001b[0m \u001b[0mself\u001b[0m\u001b[1;33m.\u001b[0m\u001b[0m_make_engine\u001b[0m\u001b[1;33m(\u001b[0m\u001b[0mself\u001b[0m\u001b[1;33m.\u001b[0m\u001b[0mengine\u001b[0m\u001b[1;33m)\u001b[0m\u001b[1;33m\u001b[0m\u001b[1;33m\u001b[0m\u001b[0m\n\u001b[0m\u001b[0;32m    812\u001b[0m \u001b[1;33m\u001b[0m\u001b[0m\n\u001b[0;32m    813\u001b[0m     \u001b[1;32mdef\u001b[0m \u001b[0mclose\u001b[0m\u001b[1;33m(\u001b[0m\u001b[0mself\u001b[0m\u001b[1;33m)\u001b[0m\u001b[1;33m:\u001b[0m\u001b[1;33m\u001b[0m\u001b[1;33m\u001b[0m\u001b[0m\n",
      "\u001b[1;32m~\\anaconda3\\lib\\site-packages\\pandas\\io\\parsers\\readers.py\u001b[0m in \u001b[0;36m_make_engine\u001b[1;34m(self, engine)\u001b[0m\n\u001b[0;32m   1038\u001b[0m             )\n\u001b[0;32m   1039\u001b[0m         \u001b[1;31m# error: Too many arguments for \"ParserBase\"\u001b[0m\u001b[1;33m\u001b[0m\u001b[1;33m\u001b[0m\u001b[0m\n\u001b[1;32m-> 1040\u001b[1;33m         \u001b[1;32mreturn\u001b[0m \u001b[0mmapping\u001b[0m\u001b[1;33m[\u001b[0m\u001b[0mengine\u001b[0m\u001b[1;33m]\u001b[0m\u001b[1;33m(\u001b[0m\u001b[0mself\u001b[0m\u001b[1;33m.\u001b[0m\u001b[0mf\u001b[0m\u001b[1;33m,\u001b[0m \u001b[1;33m**\u001b[0m\u001b[0mself\u001b[0m\u001b[1;33m.\u001b[0m\u001b[0moptions\u001b[0m\u001b[1;33m)\u001b[0m  \u001b[1;31m# type: ignore[call-arg]\u001b[0m\u001b[1;33m\u001b[0m\u001b[1;33m\u001b[0m\u001b[0m\n\u001b[0m\u001b[0;32m   1041\u001b[0m \u001b[1;33m\u001b[0m\u001b[0m\n\u001b[0;32m   1042\u001b[0m     \u001b[1;32mdef\u001b[0m \u001b[0m_failover_to_python\u001b[0m\u001b[1;33m(\u001b[0m\u001b[0mself\u001b[0m\u001b[1;33m)\u001b[0m\u001b[1;33m:\u001b[0m\u001b[1;33m\u001b[0m\u001b[1;33m\u001b[0m\u001b[0m\n",
      "\u001b[1;32m~\\anaconda3\\lib\\site-packages\\pandas\\io\\parsers\\c_parser_wrapper.py\u001b[0m in \u001b[0;36m__init__\u001b[1;34m(self, src, **kwds)\u001b[0m\n\u001b[0;32m     49\u001b[0m \u001b[1;33m\u001b[0m\u001b[0m\n\u001b[0;32m     50\u001b[0m         \u001b[1;31m# open handles\u001b[0m\u001b[1;33m\u001b[0m\u001b[1;33m\u001b[0m\u001b[0m\n\u001b[1;32m---> 51\u001b[1;33m         \u001b[0mself\u001b[0m\u001b[1;33m.\u001b[0m\u001b[0m_open_handles\u001b[0m\u001b[1;33m(\u001b[0m\u001b[0msrc\u001b[0m\u001b[1;33m,\u001b[0m \u001b[0mkwds\u001b[0m\u001b[1;33m)\u001b[0m\u001b[1;33m\u001b[0m\u001b[1;33m\u001b[0m\u001b[0m\n\u001b[0m\u001b[0;32m     52\u001b[0m         \u001b[1;32massert\u001b[0m \u001b[0mself\u001b[0m\u001b[1;33m.\u001b[0m\u001b[0mhandles\u001b[0m \u001b[1;32mis\u001b[0m \u001b[1;32mnot\u001b[0m \u001b[1;32mNone\u001b[0m\u001b[1;33m\u001b[0m\u001b[1;33m\u001b[0m\u001b[0m\n\u001b[0;32m     53\u001b[0m \u001b[1;33m\u001b[0m\u001b[0m\n",
      "\u001b[1;32m~\\anaconda3\\lib\\site-packages\\pandas\\io\\parsers\\base_parser.py\u001b[0m in \u001b[0;36m_open_handles\u001b[1;34m(self, src, kwds)\u001b[0m\n\u001b[0;32m    220\u001b[0m         \u001b[0mLet\u001b[0m \u001b[0mthe\u001b[0m \u001b[0mreaders\u001b[0m \u001b[0mopen\u001b[0m \u001b[0mIOHandles\u001b[0m \u001b[0mafter\u001b[0m \u001b[0mthey\u001b[0m \u001b[0mare\u001b[0m \u001b[0mdone\u001b[0m \u001b[1;32mwith\u001b[0m \u001b[0mtheir\u001b[0m \u001b[0mpotential\u001b[0m \u001b[0mraises\u001b[0m\u001b[1;33m.\u001b[0m\u001b[1;33m\u001b[0m\u001b[1;33m\u001b[0m\u001b[0m\n\u001b[0;32m    221\u001b[0m         \"\"\"\n\u001b[1;32m--> 222\u001b[1;33m         self.handles = get_handle(\n\u001b[0m\u001b[0;32m    223\u001b[0m             \u001b[0msrc\u001b[0m\u001b[1;33m,\u001b[0m\u001b[1;33m\u001b[0m\u001b[1;33m\u001b[0m\u001b[0m\n\u001b[0;32m    224\u001b[0m             \u001b[1;34m\"r\"\u001b[0m\u001b[1;33m,\u001b[0m\u001b[1;33m\u001b[0m\u001b[1;33m\u001b[0m\u001b[0m\n",
      "\u001b[1;32m~\\anaconda3\\lib\\site-packages\\pandas\\io\\common.py\u001b[0m in \u001b[0;36mget_handle\u001b[1;34m(path_or_buf, mode, encoding, compression, memory_map, is_text, errors, storage_options)\u001b[0m\n\u001b[0;32m    700\u001b[0m         \u001b[1;32mif\u001b[0m \u001b[0mioargs\u001b[0m\u001b[1;33m.\u001b[0m\u001b[0mencoding\u001b[0m \u001b[1;32mand\u001b[0m \u001b[1;34m\"b\"\u001b[0m \u001b[1;32mnot\u001b[0m \u001b[1;32min\u001b[0m \u001b[0mioargs\u001b[0m\u001b[1;33m.\u001b[0m\u001b[0mmode\u001b[0m\u001b[1;33m:\u001b[0m\u001b[1;33m\u001b[0m\u001b[1;33m\u001b[0m\u001b[0m\n\u001b[0;32m    701\u001b[0m             \u001b[1;31m# Encoding\u001b[0m\u001b[1;33m\u001b[0m\u001b[1;33m\u001b[0m\u001b[0m\n\u001b[1;32m--> 702\u001b[1;33m             handle = open(\n\u001b[0m\u001b[0;32m    703\u001b[0m                 \u001b[0mhandle\u001b[0m\u001b[1;33m,\u001b[0m\u001b[1;33m\u001b[0m\u001b[1;33m\u001b[0m\u001b[0m\n\u001b[0;32m    704\u001b[0m                 \u001b[0mioargs\u001b[0m\u001b[1;33m.\u001b[0m\u001b[0mmode\u001b[0m\u001b[1;33m,\u001b[0m\u001b[1;33m\u001b[0m\u001b[1;33m\u001b[0m\u001b[0m\n",
      "\u001b[1;31mFileNotFoundError\u001b[0m: [Errno 2] No such file or directory: '/content/data/test/test.csv'"
     ]
    }
   ],
   "source": [
    "test_additional_info_id_account_condition_list = []\n",
    "test_additional_info_id_reference_point_list = []\n",
    "test_additional_info_id_stats_table_list = []\n",
    "test_deals_list = []\n",
    "\n",
    "account_condition_list = []\n",
    "reference_point_list = []\n",
    "stats_table_list = []\n",
    "test_deals_list = []\n",
    "list_cnt_tables = []\n",
    "\n",
    "main = pd.read_csv(f'/content/data/test/test.csv', sep = ',')\n",
    "ids = main['id']\n",
    "\n",
    "cnt_tables = 0\n",
    "for id in ids:\n",
    "    test_additional_info_id_account_condition_list.append(pd.read_csv(f'/content/data/test/test_additional_info/id_{id}/account_condition_{id}.csv'))\n",
    "    test_additional_info_id_reference_point_list.append(pd.read_csv(f'/content/data/test/test_additional_info/id_{id}/reference_point_{id}.csv'))\n",
    "    test_additional_info_id_stats_table_list.append(pd.read_csv(f'/content/data/test/test_additional_info/id_{id}/stats_table_{id}.csv', sep=';'))\n",
    "    if not (pd.read_csv(f'/content/data/test/test_additional_info/id_{id}/account_condition_{id}.csv').empty):\n",
    "        account_condition_list.append(1)\n",
    "        cnt_tables += 1\n",
    "    if not (pd.read_csv(f'/content/data/test/test_additional_info/id_{id}/reference_point_{id}.csv').empty):\n",
    "        reference_point_list.append(1)\n",
    "        cnt_tables += 1\n",
    "    if not (pd.read_csv(f'/content/data/test/test_additional_info/id_{id}/stats_table_{id}.csv').empty):\n",
    "        test_deals_list.append(1)\n",
    "        cnt_tables += 1\n",
    "    list_cnt_tables.append(cnt_tables)\n",
    "    cnt_tables = 0\n",
    "\n",
    "test_additional_info_id_account_condition = pd.concat(test_additional_info_id_account_condition_list, axis=0, join='outer', ignore_index=False, keys=ids)\n",
    "test_additional_info_id_reference_point = pd.concat(test_additional_info_id_reference_point_list, axis=0, join='outer', ignore_index=False, keys=ids)\n",
    "test_additional_info_id_stats_table = pd.concat(test_additional_info_id_stats_table_list, axis=0, join='outer', ignore_index=False, keys=ids)\n",
    "\n",
    "# for id in ids:\n",
    "#   test_deals_list.append(pd.read_csv(f'/content/data/test/test_deals/1_{id}.csv'))\n",
    "# test_deals = pd.concat(test_deals_list, axis=0, join='outer', ignore_index=False, keys=ids)\n",
    "\n",
    "distr_tables = pd.DataFrame({'id' : ids, \n",
    "                             'count_tables' : list_cnt_tables, \n",
    "                             })\n",
    "\n",
    "distr_tables  "
   ]
  },
  {
   "cell_type": "code",
   "execution_count": null,
   "metadata": {
    "colab": {
     "base_uri": "https://localhost:8080/",
     "height": 423
    },
    "id": "NjVOSOkExL-J",
    "outputId": "f1d8e683-4e34-4496-8155-a301e73e3500"
   },
   "outputs": [],
   "source": [
    "test_additional_info_id_account_condition_list = []\n",
    "test_additional_info_id_reference_point_list = []\n",
    "test_additional_info_id_stats_table_list = []\n",
    "test_deals_list = []\n",
    "\n",
    "account_condition_list = []\n",
    "reference_point_list = []\n",
    "stats_table_list = []\n",
    "test_deals_list = []\n",
    "list_cnt_tables = []\n",
    "\n",
    "main = pd.read_csv(f'/content/data/test/test.csv', sep = ',')\n",
    "ids = main['id']\n",
    "\n",
    "cnt_tables = 0\n",
    "for id in ids:\n",
    "  test_additional_info_id_account_condition_list.append(pd.read_csv(f'/content/data/test/test_additional_info/id_{id}/account_condition_{id}.csv'))\n",
    "  test_additional_info_id_reference_point_list.append(pd.read_csv(f'/content/data/test/test_additional_info/id_{id}/reference_point_{id}.csv'))\n",
    "  test_additional_info_id_stats_table_list.append(pd.read_csv(f'/content/data/test/test_additional_info/id_{id}/stats_table_{id}.csv', sep=';'))\n",
    "  if not (pd.read_csv(f'/content/data/test/test_additional_info/id_{id}/account_condition_{id}.csv').empty):\n",
    "    account_condition_list.append(1)\n",
    "    cnt_tables += 1\n",
    "  if not (pd.read_csv(f'/content/data/test/test_additional_info/id_{id}/reference_point_{id}.csv').empty):\n",
    "    reference_point_list.append(1)\n",
    "    cnt_tables += 1\n",
    "  if not (pd.read_csv(f'/content/data/test/test_additional_info/id_{id}/stats_table_{id}.csv').empty):\n",
    "    test_deals_list.append(1)\n",
    "    cnt_tables += 1\n",
    "  list_cnt_tables.append(cnt_tables)\n",
    "  cnt_tables = 0\n",
    "\n",
    "test_additional_info_id_account_condition = pd.concat(test_additional_info_id_account_condition_list, axis=0, join='outer', ignore_index=False, keys=ids)\n",
    "test_additional_info_id_reference_point = pd.concat(test_additional_info_id_reference_point_list, axis=0, join='outer', ignore_index=False, keys=ids)\n",
    "test_additional_info_id_stats_table = pd.concat(test_additional_info_id_stats_table_list, axis=0, join='outer', ignore_index=False, keys=ids)\n",
    "\n",
    "# for id in ids:\n",
    "#   test_deals_list.append(pd.read_csv(f'/content/data/test/test_deals/1_{id}.csv'))\n",
    "# test_deals = pd.concat(test_deals_list, axis=0, join='outer', ignore_index=False, keys=ids)\n",
    "\n",
    "distr_tables = pd.DataFrame({'id' : ids, \n",
    "                             'count_tables' : list_cnt_tables, \n",
    "                             })\n",
    "\n",
    "distr_tables"
   ]
  },
  {
   "cell_type": "code",
   "execution_count": null,
   "metadata": {
    "colab": {
     "base_uri": "https://localhost:8080/",
     "height": 237
    },
    "id": "oR6N8_CSGXm8",
    "outputId": "ea36dbef-c7bc-4fc4-ba6c-22f446a1bfa5"
   },
   "outputs": [],
   "source": [
    "test_additional_info_id_account_condition.head()"
   ]
  },
  {
   "cell_type": "code",
   "execution_count": null,
   "metadata": {
    "colab": {
     "base_uri": "https://localhost:8080/"
    },
    "id": "cZaqGuqtOjSx",
    "outputId": "2c8bf5a5-f422-41d3-e89f-862d0c6e4988"
   },
   "outputs": [],
   "source": [
    "# много пропусков\n",
    "test_additional_info_id_account_condition.info()"
   ]
  },
  {
   "cell_type": "code",
   "execution_count": null,
   "metadata": {
    "colab": {
     "base_uri": "https://localhost:8080/"
    },
    "id": "vwikTKp2VdAL",
    "outputId": "f984f335-0505-49e3-b287-3809a99b942c"
   },
   "outputs": [],
   "source": [
    "# много пропусков\n",
    "test_additional_info_id_reference_point.info()"
   ]
  },
  {
   "cell_type": "code",
   "execution_count": null,
   "metadata": {
    "colab": {
     "base_uri": "https://localhost:8080/"
    },
    "id": "dvMe2PA6Vmyo",
    "outputId": "68aca910-0804-4cef-ddbd-e88df43dcda2"
   },
   "outputs": [],
   "source": [
    "# много пропусков\n",
    "test_additional_info_id_stats_table.info()"
   ]
  },
  {
   "cell_type": "code",
   "execution_count": null,
   "metadata": {
    "colab": {
     "base_uri": "https://localhost:8080/",
     "height": 1000
    },
    "id": "JunDoWo3Z2-4",
    "outputId": "cf02e4df-6f2c-4030-e88c-a1816e02d773"
   },
   "outputs": [],
   "source": [
    "test_additional_info_id_account_condition.sum(level='id')"
   ]
  }
 ],
 "metadata": {
  "colab": {
   "provenance": []
  },
  "kernelspec": {
   "display_name": "Python 3 (ipykernel)",
   "language": "python",
   "name": "python3"
  },
  "language_info": {
   "codemirror_mode": {
    "name": "ipython",
    "version": 3
   },
   "file_extension": ".py",
   "mimetype": "text/x-python",
   "name": "python",
   "nbconvert_exporter": "python",
   "pygments_lexer": "ipython3",
   "version": "3.9.7"
  }
 },
 "nbformat": 4,
 "nbformat_minor": 1
}
